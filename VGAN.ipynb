{
  "nbformat": 4,
  "nbformat_minor": 0,
  "metadata": {
    "colab": {
      "provenance": [],
      "gpuType": "T4",
      "authorship_tag": "ABX9TyM8EgJbx0EQqOEV36qhOJgr",
      "include_colab_link": true
    },
    "kernelspec": {
      "name": "python3",
      "display_name": "Python 3"
    },
    "language_info": {
      "name": "python"
    },
    "accelerator": "GPU"
  },
  "cells": [
    {
      "cell_type": "markdown",
      "metadata": {
        "id": "view-in-github",
        "colab_type": "text"
      },
      "source": [
        "<a href=\"https://colab.research.google.com/github/Isi2000/GAN/blob/main/VGAN.ipynb\" target=\"_parent\"><img src=\"https://colab.research.google.com/assets/colab-badge.svg\" alt=\"Open In Colab\"/></a>"
      ]
    },
    {
      "cell_type": "markdown",
      "source": [
        "# VANILLA GAN\n",
        "\n",
        "This notebook aims at creating an implementation of the vanilla **Vanilla GAN**\n",
        "described in the first 2 chapters of YANG WANG's paper (note that it was first Goodfellow's idea)"
      ],
      "metadata": {
        "id": "rjd9hNN1ixPE"
      }
    },
    {
      "cell_type": "code",
      "source": [
        "import torch\n",
        "from torch.utils.data import Dataset\n",
        "from torchvision.datasets import MNIST\n",
        "from torchvision.transforms import ToTensor\n",
        "import matplotlib.pyplot as plt\n",
        "import torch.nn as nn\n"
      ],
      "metadata": {
        "id": "ovsbyQsMjQGl"
      },
      "execution_count": 7,
      "outputs": []
    },
    {
      "cell_type": "code",
      "source": [
        "\n",
        "import torch.nn.functional as F\n",
        "\n",
        "import torchvision\n",
        "import torchvision.transforms as T\n",
        "\n",
        "from torch.utils.data import Dataset, DataLoader\n",
        "from torchvision.io import read_image\n",
        "\n",
        "# keras-style network summary\n",
        "from torchsummary import summary"
      ],
      "metadata": {
        "id": "0VzbWoOtQXRv"
      },
      "execution_count": 15,
      "outputs": []
    },
    {
      "cell_type": "code",
      "source": [
        "\n",
        "\n",
        "training_data = MNIST(\n",
        "    root=\"data\",\n",
        "    train=True,\n",
        "    download=True,\n",
        "    transform=ToTensor()\n",
        ")\n",
        "\n",
        "test_data = MNIST(\n",
        "    root=\"data\",\n",
        "    train=False,\n",
        "    download=True,\n",
        "    transform=ToTensor()\n",
        ")"
      ],
      "metadata": {
        "id": "v4hRsxwWjir4"
      },
      "execution_count": 8,
      "outputs": []
    },
    {
      "cell_type": "code",
      "source": [
        "figure = plt.figure(figsize=(8, 8))\n",
        "cols, rows = 3, 3\n",
        "for i in range(1, cols * rows + 1):\n",
        "    sample_idx = torch.randint(len(training_data), size=(1,)).item()\n",
        "    img, label = training_data[sample_idx]\n",
        "    figure.add_subplot(rows, cols, i)\n",
        "    print(img.size())\n",
        "    plt.title(label)\n",
        "    plt.axis(\"off\")\n",
        "    plt.imshow(img.squeeze(), cmap=\"gray\")\n",
        "plt.show()"
      ],
      "metadata": {
        "colab": {
          "base_uri": "https://localhost:8080/",
          "height": 831
        },
        "id": "OrxkdtKAjmWi",
        "outputId": "b350e5f2-4572-4286-80bf-5fa6beff4a87"
      },
      "execution_count": 13,
      "outputs": [
        {
          "output_type": "stream",
          "name": "stdout",
          "text": [
            "torch.Size([1, 28, 28])\n",
            "torch.Size([1, 28, 28])\n",
            "torch.Size([1, 28, 28])\n",
            "torch.Size([1, 28, 28])\n",
            "torch.Size([1, 28, 28])\n",
            "torch.Size([1, 28, 28])\n",
            "torch.Size([1, 28, 28])\n",
            "torch.Size([1, 28, 28])\n",
            "torch.Size([1, 28, 28])\n"
          ]
        },
        {
          "output_type": "display_data",
          "data": {
            "text/plain": [
              "<Figure size 800x800 with 9 Axes>"
            ],
            "image/png": "[encoded data removed]"
          },
          "metadata": {}
        }
      ]
    },
    {
      "cell_type": "code",
      "source": [
        "if torch.cuda.is_available():\n",
        "    print(\"Congratulations, you have a GPU!\")\n",
        "else:\n",
        "    print(\"PyTorch cannot see your GPU :(\")\n",
        "device = torch.device('cuda:0' if torch.cuda.is_available() else 'cpu')\n"
      ],
      "metadata": {
        "colab": {
          "base_uri": "https://localhost:8080/"
        },
        "id": "GVbQDb98kEJu",
        "outputId": "40ecfd19-0d9a-4641-810b-6016d54ea599"
      },
      "execution_count": 10,
      "outputs": [
        {
          "output_type": "stream",
          "name": "stdout",
          "text": [
            "Congratulations, you have a GPU!\n"
          ]
        }
      ]
    },
    {
      "cell_type": "code",
      "source": [
        "class Discriminator(nn.Module):\n",
        "    def __init__(self, filters: list, units: list, activation=F.leaky_relu, kernel=3):\n",
        "        super().__init__()\n",
        "\n",
        "        filters = [1] + filters\n",
        "        units = [filters[-1] * (len(filters)-1)//2 *  (len(filters)-1)//2]+ units + [10]\n",
        "\n",
        "        # NOTE: never ever add layers into python's list...\n",
        "        self.convs = nn.ModuleList()\n",
        "        self.fc = nn.ModuleList()\n",
        "        self.activation = activation\n",
        "\n",
        "        # define convolutions\n",
        "        for i, num_filters in enumerate(filters[1:]):\n",
        "            conv = nn.Conv2d(in_channels=filters[i], out_channels=num_filters,\n",
        "                             kernel_size=kernel, padding='same')\n",
        "\n",
        "            self.convs.append(conv)\n",
        "\n",
        "        self.max_pool = nn.MaxPool2d(2, 2)\n",
        "\n",
        "        # define dense layers\n",
        "        for i, num_units in enumerate(units[1:]):\n",
        "            fc = nn.Linear(units[i], num_units)\n",
        "            self.fc.append(fc)\n",
        "\n",
        "\n",
        "    def forward(self, x):\n",
        "        for i, layer in enumerate(self.convs):\n",
        "            x = self.activation(layer(x))\n",
        "\n",
        "            if i % 2 == 1:\n",
        "                # downsample by 2 on 2nd conv layer\n",
        "                x = self.max_pool(x)\n",
        "\n",
        "        x = torch.flatten(x, start_dim=1)\n",
        "\n",
        "        for layer in self.fc:\n",
        "            x = self.activation(layer(x))\n",
        "\n",
        "        return F.log_softmax(x)\n",
        "\n",
        "netG= Discriminator(filters=[4,4,8,8, 16, 16], units=[64], kernel=3).to(device)\n",
        "summary(netG, (1,28,28), device ='cuda')"
      ],
      "metadata": {
        "colab": {
          "base_uri": "https://localhost:8080/"
        },
        "id": "w3gv8dYdkbKH",
        "outputId": "9a890eea-b2ab-47c0-df85-f6cd2bfee961"
      },
      "execution_count": 46,
      "outputs": [
        {
          "output_type": "stream",
          "name": "stdout",
          "text": [
            "----------------------------------------------------------------\n",
            "        Layer (type)               Output Shape         Param #\n",
            "================================================================\n",
            "            Conv2d-1            [-1, 4, 28, 28]              40\n",
            "            Conv2d-2            [-1, 4, 28, 28]             148\n",
            "         MaxPool2d-3            [-1, 4, 14, 14]               0\n",
            "            Conv2d-4            [-1, 8, 14, 14]             296\n",
            "            Conv2d-5            [-1, 8, 14, 14]             584\n",
            "         MaxPool2d-6              [-1, 8, 7, 7]               0\n",
            "            Conv2d-7             [-1, 16, 7, 7]           1,168\n",
            "            Conv2d-8             [-1, 16, 7, 7]           2,320\n",
            "         MaxPool2d-9             [-1, 16, 3, 3]               0\n",
            "           Linear-10                   [-1, 64]           9,280\n",
            "           Linear-11                   [-1, 10]             650\n",
            "================================================================\n",
            "Total params: 14,486\n",
            "Trainable params: 14,486\n",
            "Non-trainable params: 0\n",
            "----------------------------------------------------------------\n",
            "Input size (MB): 0.00\n",
            "Forward/backward pass size (MB): 0.09\n",
            "Params size (MB): 0.06\n",
            "Estimated Total Size (MB): 0.15\n",
            "----------------------------------------------------------------\n"
          ]
        },
        {
          "output_type": "stream",
          "name": "stderr",
          "text": [
            "<ipython-input-46-a4137d5d7fa4>:41: UserWarning: Implicit dimension choice for log_softmax has been deprecated. Change the call to include dim=X as an argument.\n",
            "  return F.log_softmax(x)\n"
          ]
        }
      ]
    },
    {
      "cell_type": "code",
      "source": [],
      "metadata": {
        "id": "IcOM3p6_kr3I"
      },
      "execution_count": null,
      "outputs": []
    }
  ]
}