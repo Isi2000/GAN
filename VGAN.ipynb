{
  "nbformat": 4,
  "nbformat_minor": 0,
  "metadata": {
    "colab": {
      "provenance": [],
      "gpuType": "T4",
      "authorship_tag": "ABX9TyNJlLi6bF13CwMEEUKy1VWU",
      "include_colab_link": true
    },
    "kernelspec": {
      "name": "python3",
      "display_name": "Python 3"
    },
    "language_info": {
      "name": "python"
    }
  },
  "cells": [
    {
      "cell_type": "markdown",
      "metadata": {
        "id": "view-in-github",
        "colab_type": "text"
      },
      "source": [
        "<a href=\"https://colab.research.google.com/github/Isi2000/GAN/blob/main/VGAN.ipynb\" target=\"_parent\"><img src=\"https://colab.research.google.com/assets/colab-badge.svg\" alt=\"Open In Colab\"/></a>"
      ]
    },
    {
      "cell_type": "markdown",
      "source": [
        "# VANILLA GAN\n",
        "\n",
        "This notebook aims at creating an implementation of the vanilla **Vanilla GAN**\n",
        "described in the first 2 chapters of YANG WANG's paper (note that it was first Goodfellow's idea)\n",
        "\n",
        "It takes most of the code form Sovit Ranjan Rath's code **\"Generating MNIST Digit Images using Vanilla GAN with PyTorch\"**"
      ],
      "metadata": {
        "id": "rjd9hNN1ixPE"
      }
    },
    {
      "cell_type": "code",
      "source": [
        "\n",
        "import torch.nn.functional as F\n",
        "\n",
        "import torchvision\n",
        "import torchvision.transforms as T\n",
        "\n",
        "from torch.utils.data import Dataset, DataLoader\n",
        "from torchvision.io import read_image\n",
        "\n",
        "# keras-style network summary\n",
        "from torchsummary import summary"
      ],
      "metadata": {
        "id": "0VzbWoOtQXRv"
      },
      "execution_count": 1,
      "outputs": []
    },
    {
      "cell_type": "code",
      "source": [
        "\n",
        "import torch\n",
        "from torch.utils.data import Dataset\n",
        "from torchvision.datasets import MNIST\n",
        "from torchvision.transforms import ToTensor\n",
        "import matplotlib.pyplot as plt\n",
        "import torch.nn as nn\n"
      ],
      "metadata": {
        "id": "E_3HeczCFAVA"
      },
      "execution_count": 2,
      "outputs": []
    },
    {
      "cell_type": "code",
      "source": [
        "#I only need data to train, not test (this of course is half true)\n",
        "training_data = MNIST(\n",
        "    root=\"data\",\n",
        "    train=True,\n",
        "    download=True,\n",
        "    transform=ToTensor()\n",
        ")\n",
        "batch_size = 256\n",
        "\n",
        "train_loader = DataLoader(training_data, batch_size=batch_size, shuffle=True)"
      ],
      "metadata": {
        "id": "v4hRsxwWjir4"
      },
      "execution_count": 28,
      "outputs": []
    },
    {
      "cell_type": "code",
      "source": [
        "figure = plt.figure(figsize=(8, 8))\n",
        "cols, rows = 3, 3\n",
        "for i in range(1, cols * rows + 1):\n",
        "    sample_idx = torch.randint(len(training_data), size=(1,)).item()\n",
        "    img, label = training_data[sample_idx]\n",
        "    figure.add_subplot(rows, cols, i)\n",
        "    print(img.size())\n",
        "    plt.title(label)\n",
        "    plt.axis(\"off\")\n",
        "    plt.imshow(img.squeeze(), cmap=\"gray\")\n",
        "plt.show()"
      ],
      "metadata": {
        "colab": {
          "base_uri": "https://localhost:8080/",
          "height": 831
        },
        "id": "OrxkdtKAjmWi",
        "outputId": "ad0bd8d1-6fa2-4171-f32c-b2cd901c5707"
      },
      "execution_count": 4,
      "outputs": [
        {
          "output_type": "stream",
          "name": "stdout",
          "text": [
            "torch.Size([1, 28, 28])\n",
            "torch.Size([1, 28, 28])\n",
            "torch.Size([1, 28, 28])\n",
            "torch.Size([1, 28, 28])\n",
            "torch.Size([1, 28, 28])\n",
            "torch.Size([1, 28, 28])\n",
            "torch.Size([1, 28, 28])\n",
            "torch.Size([1, 28, 28])\n",
            "torch.Size([1, 28, 28])\n"
          ]
        },
        {
          "output_type": "display_data",
          "data": {
            "text/plain": [
              "<Figure size 800x800 with 9 Axes>"
            ],
            "image/png": "[encoded data removed]"
          },
          "metadata": {}
        }
      ]
    },
    {
      "cell_type": "code",
      "source": [
        "if torch.cuda.is_available():\n",
        "    print(\"Congratulations, you have a GPU!\")\n",
        "else:\n",
        "    print(\"PyTorch cannot see your GPU :(\")\n",
        "device = torch.device('cuda:0' if torch.cuda.is_available() else 'cpu')\n"
      ],
      "metadata": {
        "colab": {
          "base_uri": "https://localhost:8080/"
        },
        "id": "GVbQDb98kEJu",
        "outputId": "1bcad40b-44b0-4e54-92fe-cb8a3036c90c"
      },
      "execution_count": 5,
      "outputs": [
        {
          "output_type": "stream",
          "name": "stdout",
          "text": [
            "PyTorch cannot see your GPU :(\n"
          ]
        }
      ]
    },
    {
      "cell_type": "markdown",
      "source": [
        "# Discriminator\n",
        "\n",
        "Be careful, this nn is a bit weird. It can classify the images but its main focus is that of recognizing true images from fake ones"
      ],
      "metadata": {
        "id": "hZZZP3VjEYWb"
      }
    },
    {
      "cell_type": "code",
      "source": [
        "#while formally correct first implementation must choose clarity over performance\n",
        "#No convolution, let's write a simple MLP\n",
        "\n",
        "\"\"\"\n",
        "\n",
        "class Discriminator(nn.Module):\n",
        "    def __init__(self, filters: list, activation=F.leaky_relu, kernel=3):\n",
        "        super().__init__()\n",
        "        filters = [1] + filters\n",
        "        # NOTE: never ever add layers into python's list...\n",
        "        self.convs = nn.ModuleList()\n",
        "        self.fc = nn.ModuleList()\n",
        "        self.activation = activation\n",
        "\n",
        "        # define convolutions\n",
        "        for i, num_filters in enumerate(filters[1:]):\n",
        "            conv = nn.Conv2d(in_channels=filters[i], out_channels=num_filters,\n",
        "                             kernel_size=kernel, padding='same')\n",
        "\n",
        "            self.convs.append(conv)\n",
        "\n",
        "        self.max_pool = nn.MaxPool2d(2, 2)\n",
        "\n",
        "    def forward(self, x):\n",
        "        for i, layer in enumerate(self.convs):\n",
        "            x = self.activation(layer(x))\n",
        "\n",
        "            if i % 4 == 1:\n",
        "                # downsample by 2 on 2nd conv layer\n",
        "                x = self.max_pool(x)\n",
        "        return F.sigmoid(x)\n",
        "\n",
        "netG= Discriminator(filters=[4, 4, 8, 8], kernel=3).to(device)\n",
        "\n",
        "summary(netG, (1,28,28), device ='cuda')\n",
        "\"\"\"\n"
      ],
      "metadata": {
        "colab": {
          "base_uri": "https://localhost:8080/",
          "height": 105
        },
        "id": "w3gv8dYdkbKH",
        "outputId": "59e3c2a8-6641-444a-af5f-6ef4cc880bf9"
      },
      "execution_count": 6,
      "outputs": [
        {
          "output_type": "execute_result",
          "data": {
            "text/plain": [
              "\"\\n\\nclass Discriminator(nn.Module):\\n    def __init__(self, filters: list, activation=F.leaky_relu, kernel=3):\\n        super().__init__()\\n        filters = [1] + filters\\n        # NOTE: never ever add layers into python's list...\\n        self.convs = nn.ModuleList()\\n        self.fc = nn.ModuleList()\\n        self.activation = activation\\n\\n        # define convolutions\\n        for i, num_filters in enumerate(filters[1:]):\\n            conv = nn.Conv2d(in_channels=filters[i], out_channels=num_filters,\\n                             kernel_size=kernel, padding='same')\\n\\n            self.convs.append(conv)\\n\\n        self.max_pool = nn.MaxPool2d(2, 2)\\n\\n    def forward(self, x):\\n        for i, layer in enumerate(self.convs):\\n            x = self.activation(layer(x))\\n\\n            if i % 4 == 1:\\n                # downsample by 2 on 2nd conv layer\\n                x = self.max_pool(x)\\n        return F.sigmoid(x)\\n\\nnetG= Discriminator(filters=[4, 4, 8, 8], kernel=3).to(device)\\n\\nsummary(netG, (1,28,28), device ='cuda')\\n\""
            ],
            "application/vnd.google.colaboratory.intrinsic+json": {
              "type": "string"
            }
          },
          "metadata": {},
          "execution_count": 6
        }
      ]
    },
    {
      "cell_type": "code",
      "source": [
        "from torch.nn.modules.activation import LeakyReLU\n",
        "noiz = 128 #arbitrary size of the latent vector,\n",
        "\n",
        "######!!!!!!!!!!!ATTENTION TO NOIZ!!!!!!!!!!!!!!!!############\n",
        "#It was a really dumb way to name something, everything should work, but in case of error look here first!!!!!!!!!!\n",
        "#################!!!!!!!!!!!!!!!!!!!!!!!!!###############\n",
        "\n",
        "class Generator(nn.Module):\n",
        "  def __init__(self, noise):\n",
        "    super(Generator, self).__init__()\n",
        "    self.noise = noiz\n",
        "\n",
        "    #usually I despise this way of working, but for such an easy case I can make an exeption\n",
        "    self.main = nn.Sequential(\n",
        "        nn.Linear(self.noise, 256),\n",
        "        nn.LeakyReLU(0.2),\n",
        "\n",
        "        nn.Linear(256, 512),\n",
        "        nn.LeakyReLU(0.2),\n",
        "\n",
        "        nn.Linear(512, 1024),\n",
        "        nn.LeakyReLU(0.2),\n",
        "\n",
        "        nn.Linear(1024, 784),\n",
        "        nn.Tanh(),\n",
        "        )\n",
        "  def forward(self, x):\n",
        "    return self.main(x).view(-1, 1, 28, 28)\n",
        "\n",
        "netG = Generator(128).to(device)\n",
        "summary(netG, (1, 128), device = 'cuda')"
      ],
      "metadata": {
        "id": "SAB47BplGqxp",
        "outputId": "f6d20ebd-2673-4c41-937b-3879d0db24fb",
        "colab": {
          "base_uri": "https://localhost:8080/"
        }
      },
      "execution_count": 7,
      "outputs": [
        {
          "output_type": "stream",
          "name": "stdout",
          "text": [
            "----------------------------------------------------------------\n",
            "        Layer (type)               Output Shape         Param #\n",
            "================================================================\n",
            "            Linear-1               [-1, 1, 256]          33,024\n",
            "         LeakyReLU-2               [-1, 1, 256]               0\n",
            "            Linear-3               [-1, 1, 512]         131,584\n",
            "         LeakyReLU-4               [-1, 1, 512]               0\n",
            "            Linear-5              [-1, 1, 1024]         525,312\n",
            "         LeakyReLU-6              [-1, 1, 1024]               0\n",
            "            Linear-7               [-1, 1, 784]         803,600\n",
            "              Tanh-8               [-1, 1, 784]               0\n",
            "================================================================\n",
            "Total params: 1,493,520\n",
            "Trainable params: 1,493,520\n",
            "Non-trainable params: 0\n",
            "----------------------------------------------------------------\n",
            "Input size (MB): 0.00\n",
            "Forward/backward pass size (MB): 0.04\n",
            "Params size (MB): 5.70\n",
            "Estimated Total Size (MB): 5.74\n",
            "----------------------------------------------------------------\n"
          ]
        }
      ]
    },
    {
      "cell_type": "code",
      "source": [
        "class Discriminator(nn.Module):\n",
        "    def __init__(self):\n",
        "        super(Discriminator, self).__init__()\n",
        "        self.n_input = 784\n",
        "        self.main = nn.Sequential(\n",
        "            nn.Linear(self.n_input, 1024),\n",
        "            nn.LeakyReLU(0.2),\n",
        "            nn.Dropout(0.3),\n",
        "            nn.Linear(1024, 512),\n",
        "            nn.LeakyReLU(0.2),\n",
        "            nn.Dropout(0.3),\n",
        "            nn.Linear(512, 256),\n",
        "            nn.LeakyReLU(0.2),\n",
        "            nn.Dropout(0.3),\n",
        "            nn.Linear(256, 1),\n",
        "            nn.Sigmoid(),\n",
        "        )\n",
        "    def forward(self, x):\n",
        "        x = x.view(-1, 784)\n",
        "        return self.main(x)\n",
        "\n",
        "netD = Discriminator().to(device)\n",
        "summary(netD, (1,28,28), device = 'cuda')"
      ],
      "metadata": {
        "id": "IcOM3p6_kr3I",
        "outputId": "024b42aa-41d3-4262-8004-a192a0e3c90c",
        "colab": {
          "base_uri": "https://localhost:8080/"
        }
      },
      "execution_count": 8,
      "outputs": [
        {
          "output_type": "stream",
          "name": "stdout",
          "text": [
            "----------------------------------------------------------------\n",
            "        Layer (type)               Output Shape         Param #\n",
            "================================================================\n",
            "            Linear-1                 [-1, 1024]         803,840\n",
            "         LeakyReLU-2                 [-1, 1024]               0\n",
            "           Dropout-3                 [-1, 1024]               0\n",
            "            Linear-4                  [-1, 512]         524,800\n",
            "         LeakyReLU-5                  [-1, 512]               0\n",
            "           Dropout-6                  [-1, 512]               0\n",
            "            Linear-7                  [-1, 256]         131,328\n",
            "         LeakyReLU-8                  [-1, 256]               0\n",
            "           Dropout-9                  [-1, 256]               0\n",
            "           Linear-10                    [-1, 1]             257\n",
            "          Sigmoid-11                    [-1, 1]               0\n",
            "================================================================\n",
            "Total params: 1,460,225\n",
            "Trainable params: 1,460,225\n",
            "Non-trainable params: 0\n",
            "----------------------------------------------------------------\n",
            "Input size (MB): 0.00\n",
            "Forward/backward pass size (MB): 0.04\n",
            "Params size (MB): 5.57\n",
            "Estimated Total Size (MB): 5.61\n",
            "----------------------------------------------------------------\n"
          ]
        }
      ]
    },
    {
      "cell_type": "code",
      "source": [
        "import torch.optim as optim\n",
        "optim_g = optim.Adam(netG.parameters(), lr=0.0002)\n",
        "optim_d = optim.Adam(netD.parameters(), lr=0.0002)"
      ],
      "metadata": {
        "id": "7pc7GnIpKVnk"
      },
      "execution_count": 9,
      "outputs": []
    },
    {
      "cell_type": "code",
      "source": [
        "# loss function\n",
        "criterion = nn.BCELoss()\n",
        "\n",
        "losses_g = [] # to store generator loss after each epoch\n",
        "losses_d = [] # to store discriminator loss after each epoch\n",
        "images = [] # to store images generatd by the generator"
      ],
      "metadata": {
        "id": "EB4ngWTbKhX1"
      },
      "execution_count": 10,
      "outputs": []
    },
    {
      "cell_type": "markdown",
      "source": [
        "# Functions\n",
        "\n",
        "These functions will come in handy during the training and visualization"
      ],
      "metadata": {
        "id": "beF1LMCRpa2S"
      }
    },
    {
      "cell_type": "code",
      "source": [
        "# to create real labels (1s), basically real data\n",
        "def label_real(size):\n",
        "    \"\"\"to create real labels (1s), basically real data\"\"\"\n",
        "    data = torch.ones(size, 1)\n",
        "    return data.to(device)\n",
        "def label_fake(size):\n",
        "    \"\"\"to create fake labels (0s), basically fake data\"\"\"\n",
        "    data = torch.zeros(size, 1)\n",
        "    return data.to(device)"
      ],
      "metadata": {
        "id": "cI0GMYmaK1t2"
      },
      "execution_count": 12,
      "outputs": []
    },
    {
      "cell_type": "code",
      "source": [
        "def nz(sample_size, noiz):\n",
        "  \"\"\"creates the noise vector\"\"\"\n",
        "  return torch.randn(sample_size, noiz).to(device) #random noise from a N(0,1), with size sample_size x noise\n",
        "\n",
        "print(nz(200, 128))"
      ],
      "metadata": {
        "id": "Wq38blaapomn"
      },
      "execution_count": 15,
      "outputs": []
    },
    {
      "cell_type": "code",
      "source": [
        "from torchvision.utils import save_image\n",
        "def save_gen_img(img, path):\n",
        "  save_imgage(img, path)"
      ],
      "metadata": {
        "id": "L88dvhKdqI1H"
      },
      "execution_count": 20,
      "outputs": []
    },
    {
      "cell_type": "markdown",
      "source": [
        "#TRAINING\n",
        "\n",
        "First we define the train functions for discriminator and generator"
      ],
      "metadata": {
        "id": "g07kFu5OradX"
      }
    },
    {
      "cell_type": "code",
      "source": [
        "#we need to train him in order to distinguish fake images from real ones\n",
        "\n",
        "def train_discriminator(optimizer, real_data, fake_data):\n",
        "  batch_size = 128\n",
        "  real_label = label_real(b_size)\n",
        "  fake_label = label_fake(b_size)\n",
        "\n",
        "  optimizer.zero_grad()\n",
        "  output_real = netD(real_data)\n",
        "  loss_real = criterion(output_real, real_label)\n",
        "\n",
        "  output_fake = nedD(fake_data)\n",
        "  loss_fake = criterion(output_fake, fake_label)\n",
        "\n",
        "  loss_real.backward()\n",
        "  loss_fake.backward()\n",
        "  optimizer.step()\n",
        "\n",
        "  return loss_real + loss_fake #total loss is what intrests us the most\n",
        "\n"
      ],
      "metadata": {
        "id": "f5DU5Pv-rbcq"
      },
      "execution_count": 22,
      "outputs": []
    },
    {
      "cell_type": "code",
      "source": [
        "#now we need to train the gen in order to be able to fool the discriminator\n",
        "\n",
        "def train_generator(optimizer, fake_data): #I only pass him fake data since it's the one it's producing\n",
        "  batch_size = 128\n",
        "  real_label = label_real(128)\n",
        "\n",
        "  optimizer.zero_grad()\n",
        "\n",
        "  output = netD(data_fake) #STILL THE DISCRIMINATOR!!!!\n",
        "\n",
        "  loss = criterion(output, real_label)\n",
        "\n",
        "  loss.backward()\n",
        "  optimizer.step()\n",
        "\n",
        "  return loss"
      ],
      "metadata": {
        "id": "GCnN8qH5sYtO"
      },
      "execution_count": 23,
      "outputs": []
    },
    {
      "cell_type": "code",
      "source": [
        "#not a great fan of tqdm, but it indeed is a great tool for data visualization\n",
        "from tqdm import tqdm #progress bars\n"
      ],
      "metadata": {
        "id": "Hy9Hx3Nvt-7f"
      },
      "execution_count": 24,
      "outputs": []
    },
    {
      "cell_type": "markdown",
      "source": [
        "## TRAINING LOOP"
      ],
      "metadata": {
        "id": "WwGt1ieuvGbl"
      }
    },
    {
      "cell_type": "code",
      "source": [
        "epochs = 200 #num_iterations for training\n",
        "k = 3 #iter to run the discriminator\n",
        "\n",
        "for epoch in range(epochs):\n",
        "  loss_g = 0.0\n",
        "  logg_d = 0.0\n",
        "  for batch_index, data in tqdm(enumerate(train_loader), total=int(len(training_data)/train_loader.batch_size)):\n",
        "\n",
        "    image, _ = data\n",
        "    image = image.to(device)\n",
        "    b_size = len(image)\n",
        "\n",
        "    for step in range(k):\n",
        "      fake_data = netG(nz(b_size, noiz)).detach() #img only\n",
        "      data_real = image\n",
        "\n",
        "      loss_d += train_discriminator(optim_d, data_real, data_fake)\n",
        "\n",
        "    #here I start training the gen\n",
        "    data_fake = netG(nz(b_size, noiz))\n",
        "    # train the generator network\n",
        "    loss_g += train_generator(optim_g, data_fake)\n",
        "\n",
        "    # create the final fake image for the epoch\n",
        "    generated_img = generator(noise).cpu().detach()\n",
        "    # make the images as grid\n",
        "    generated_img = make_grid(generated_img)\n",
        "    # save the generated torch tensor models to disk\n",
        "    save_generator_image(generated_img, f\"../outputs/gen_img{epoch}.png\")\n",
        "    images.append(generated_img)\n",
        "    epoch_loss_g = loss_g / bi # total generator loss for the epoch\n",
        "    epoch_loss_d = loss_d / bi # total discriminator loss for the epoch\n",
        "    losses_g.append(epoch_loss_g)\n",
        "    losses_d.append(epoch_loss_d)\n",
        "\n",
        "    print(f\"Epoch {epoch} of {epochs}\")\n",
        "    print(f\"Generator loss: {epoch_loss_g:.8f}, Discriminator loss: {epoch_loss_d:.8f}\")\n",
        "\n",
        "\n",
        "\n",
        "\n",
        ""
      ],
      "metadata": {
        "id": "VjmAMP1Iu7dc"
      },
      "execution_count": null,
      "outputs": []
    },
    {
      "cell_type": "code",
      "source": [],
      "metadata": {
        "id": "oKSsFkRvvrZV"
      },
      "execution_count": null,
      "outputs": []
    }
  ]
}