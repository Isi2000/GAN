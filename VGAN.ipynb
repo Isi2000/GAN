{
  "nbformat": 4,
  "nbformat_minor": 0,
  "metadata": {
    "colab": {
      "provenance": [],
      "gpuType": "T4",
      "authorship_tag": "ABX9TyOmjhPweXzrwq9ES1AER5lO",
      "include_colab_link": true
    },
    "kernelspec": {
      "name": "python3",
      "display_name": "Python 3"
    },
    "language_info": {
      "name": "python"
    }
  },
  "cells": [
    {
      "cell_type": "markdown",
      "metadata": {
        "id": "view-in-github",
        "colab_type": "text"
      },
      "source": [
        "<a href=\"https://colab.research.google.com/github/Isi2000/GAN/blob/main/VGAN.ipynb\" target=\"_parent\"><img src=\"https://colab.research.google.com/assets/colab-badge.svg\" alt=\"Open In Colab\"/></a>"
      ]
    },
    {
      "cell_type": "markdown",
      "source": [
        "# VANILLA GAN\n",
        "\n",
        "This notebook aims at creating an implementation of the vanilla **Vanilla GAN**\n",
        "described in the first 2 chapters of YANG WANG's paper (note that it was first Goodfellow's idea)\n",
        "\n",
        "It takes most of the code form Sovit Ranjan Rath's code **\"Generating MNIST Digit Images using Vanilla GAN with PyTorch\"**"
      ],
      "metadata": {
        "id": "rjd9hNN1ixPE"
      }
    },
    {
      "cell_type": "code",
      "source": [
        "\n",
        "import torch.nn.functional as F\n",
        "\n",
        "import torchvision\n",
        "import torchvision.transforms as T\n",
        "\n",
        "from torch.utils.data import Dataset, DataLoader\n",
        "from torchvision.io import read_image\n",
        "\n",
        "# keras-style network summary\n",
        "from torchsummary import summary"
      ],
      "metadata": {
        "id": "0VzbWoOtQXRv"
      },
      "execution_count": 1,
      "outputs": []
    },
    {
      "cell_type": "code",
      "source": [
        "\n",
        "import torch\n",
        "from torch.utils.data import Dataset\n",
        "from torchvision.datasets import MNIST\n",
        "from torchvision.transforms import ToTensor\n",
        "import matplotlib.pyplot as plt\n",
        "import torch.nn as nn\n"
      ],
      "metadata": {
        "id": "E_3HeczCFAVA"
      },
      "execution_count": 2,
      "outputs": []
    },
    {
      "cell_type": "code",
      "source": [
        "#I only need data to train, not test (this of course is half true)\n",
        "training_data = MNIST(\n",
        "    root=\"data\",\n",
        "    train=True,\n",
        "    download=True,\n",
        "    transform=ToTensor()\n",
        ")\n",
        "batch_size = 64 #small because gpu sucks\n",
        "\n",
        "train_loader = DataLoader(training_data, batch_size=batch_size, shuffle=True)"
      ],
      "metadata": {
        "id": "v4hRsxwWjir4",
        "outputId": "03a84216-5e34-4cd3-af45-07cf50901afc",
        "colab": {
          "base_uri": "https://localhost:8080/"
        }
      },
      "execution_count": 3,
      "outputs": [
        {
          "output_type": "stream",
          "name": "stdout",
          "text": [
            "Downloading http://yann.lecun.com/exdb/mnist/train-images-idx3-ubyte.gz\n",
            "Downloading http://yann.lecun.com/exdb/mnist/train-images-idx3-ubyte.gz to data/MNIST/raw/train-images-idx3-ubyte.gz\n"
          ]
        },
        {
          "output_type": "stream",
          "name": "stderr",
          "text": [
            "100%|██████████| 9912422/9912422 [00:00<00:00, 276526180.54it/s]"
          ]
        },
        {
          "output_type": "stream",
          "name": "stdout",
          "text": [
            "Extracting data/MNIST/raw/train-images-idx3-ubyte.gz to data/MNIST/raw\n"
          ]
        },
        {
          "output_type": "stream",
          "name": "stderr",
          "text": [
            "\n"
          ]
        },
        {
          "output_type": "stream",
          "name": "stdout",
          "text": [
            "\n",
            "Downloading http://yann.lecun.com/exdb/mnist/train-labels-idx1-ubyte.gz\n",
            "Downloading http://yann.lecun.com/exdb/mnist/train-labels-idx1-ubyte.gz to data/MNIST/raw/train-labels-idx1-ubyte.gz\n"
          ]
        },
        {
          "output_type": "stream",
          "name": "stderr",
          "text": [
            "100%|██████████| 28881/28881 [00:00<00:00, 56526222.04it/s]\n"
          ]
        },
        {
          "output_type": "stream",
          "name": "stdout",
          "text": [
            "Extracting data/MNIST/raw/train-labels-idx1-ubyte.gz to data/MNIST/raw\n",
            "\n",
            "Downloading http://yann.lecun.com/exdb/mnist/t10k-images-idx3-ubyte.gz\n",
            "Downloading http://yann.lecun.com/exdb/mnist/t10k-images-idx3-ubyte.gz to data/MNIST/raw/t10k-images-idx3-ubyte.gz\n"
          ]
        },
        {
          "output_type": "stream",
          "name": "stderr",
          "text": [
            "100%|██████████| 1648877/1648877 [00:00<00:00, 134075673.62it/s]"
          ]
        },
        {
          "output_type": "stream",
          "name": "stdout",
          "text": [
            "Extracting data/MNIST/raw/t10k-images-idx3-ubyte.gz to data/MNIST/raw\n"
          ]
        },
        {
          "output_type": "stream",
          "name": "stderr",
          "text": [
            "\n"
          ]
        },
        {
          "output_type": "stream",
          "name": "stdout",
          "text": [
            "\n",
            "Downloading http://yann.lecun.com/exdb/mnist/t10k-labels-idx1-ubyte.gz\n",
            "Downloading http://yann.lecun.com/exdb/mnist/t10k-labels-idx1-ubyte.gz to data/MNIST/raw/t10k-labels-idx1-ubyte.gz\n"
          ]
        },
        {
          "output_type": "stream",
          "name": "stderr",
          "text": [
            "100%|██████████| 4542/4542 [00:00<00:00, 12402688.00it/s]"
          ]
        },
        {
          "output_type": "stream",
          "name": "stdout",
          "text": [
            "Extracting data/MNIST/raw/t10k-labels-idx1-ubyte.gz to data/MNIST/raw\n",
            "\n"
          ]
        },
        {
          "output_type": "stream",
          "name": "stderr",
          "text": [
            "\n"
          ]
        }
      ]
    },
    {
      "cell_type": "code",
      "source": [
        "figure = plt.figure(figsize=(8, 8))\n",
        "cols, rows = 3, 3\n",
        "for i in range(1, cols * rows + 1):\n",
        "    sample_idx = torch.randint(len(training_data), size=(1,)).item()\n",
        "    img, label = training_data[sample_idx]\n",
        "    figure.add_subplot(rows, cols, i)\n",
        "    print(img.size())\n",
        "    plt.title(label)\n",
        "    plt.axis(\"off\")\n",
        "    plt.imshow(img.squeeze(), cmap=\"gray\")\n",
        "plt.show()"
      ],
      "metadata": {
        "colab": {
          "base_uri": "https://localhost:8080/",
          "height": 831
        },
        "id": "OrxkdtKAjmWi",
        "outputId": "a72c8819-b5fd-46f9-dc7c-aa43023aeeba"
      },
      "execution_count": 4,
      "outputs": [
        {
          "output_type": "stream",
          "name": "stdout",
          "text": [
            "torch.Size([1, 28, 28])\n",
            "torch.Size([1, 28, 28])\n",
            "torch.Size([1, 28, 28])\n",
            "torch.Size([1, 28, 28])\n",
            "torch.Size([1, 28, 28])\n",
            "torch.Size([1, 28, 28])\n",
            "torch.Size([1, 28, 28])\n",
            "torch.Size([1, 28, 28])\n",
            "torch.Size([1, 28, 28])\n"
          ]
        },
        {
          "output_type": "display_data",
          "data": {
            "text/plain": [
              "<Figure size 800x800 with 9 Axes>"
            ],
            "image/png": "[encoded data removed]"
          },
          "metadata": {}
        }
      ]
    },
    {
      "cell_type": "code",
      "source": [
        "if torch.cuda.is_available():\n",
        "    print(\"Congratulations, you have a GPU!\")\n",
        "else:\n",
        "    print(\"PyTorch cannot see your GPU :(\")\n",
        "device = torch.device('cuda:0' if torch.cuda.is_available() else 'cpu')\n"
      ],
      "metadata": {
        "colab": {
          "base_uri": "https://localhost:8080/"
        },
        "id": "GVbQDb98kEJu",
        "outputId": "3496a59f-b4e6-44e0-85dd-c07975611861"
      },
      "execution_count": 5,
      "outputs": [
        {
          "output_type": "stream",
          "name": "stdout",
          "text": [
            "PyTorch cannot see your GPU :(\n"
          ]
        }
      ]
    },
    {
      "cell_type": "markdown",
      "source": [
        "# Discriminator\n",
        "\n",
        "Be careful, this nn is a bit weird. It can classify the images but its main focus is that of recognizing true images from fake ones"
      ],
      "metadata": {
        "id": "hZZZP3VjEYWb"
      }
    },
    {
      "cell_type": "code",
      "source": [
        "#while formally correct first implementation must choose clarity over performance\n",
        "#No convolution, let's write a simple MLP\n",
        "\n",
        "\"\"\"\n",
        "\n",
        "class Discriminator(nn.Module):\n",
        "    def __init__(self, filters: list, activation=F.leaky_relu, kernel=3):\n",
        "        super().__init__()\n",
        "        filters = [1] + filters\n",
        "        # NOTE: never ever add layers into python's list...\n",
        "        self.convs = nn.ModuleList()\n",
        "        self.fc = nn.ModuleList()\n",
        "        self.activation = activation\n",
        "\n",
        "        # define convolutions\n",
        "        for i, num_filters in enumerate(filters[1:]):\n",
        "            conv = nn.Conv2d(in_channels=filters[i], out_channels=num_filters,\n",
        "                             kernel_size=kernel, padding='same')\n",
        "\n",
        "            self.convs.append(conv)\n",
        "\n",
        "        self.max_pool = nn.MaxPool2d(2, 2)\n",
        "\n",
        "    def forward(self, x):\n",
        "        for i, layer in enumerate(self.convs):\n",
        "            x = self.activation(layer(x))\n",
        "\n",
        "            if i % 4 == 1:\n",
        "                # downsample by 2 on 2nd conv layer\n",
        "                x = self.max_pool(x)\n",
        "        return F.sigmoid(x)\n",
        "\n",
        "netG= Discriminator(filters=[4, 4, 8, 8], kernel=3).to(device)\n",
        "\n",
        "summary(netG, (1,28,28), device ='cuda')\n",
        "\"\"\"\n"
      ],
      "metadata": {
        "colab": {
          "base_uri": "https://localhost:8080/",
          "height": 191
        },
        "id": "w3gv8dYdkbKH",
        "outputId": "9e1e4f9a-cb36-40de-a8fd-4f224ccbbad8"
      },
      "execution_count": 6,
      "outputs": [
        {
          "output_type": "execute_result",
          "data": {
            "text/plain": [
              "\"\\n\\nclass Discriminator(nn.Module):\\n    def __init__(self, filters: list, activation=F.leaky_relu, kernel=3):\\n        super().__init__()\\n        filters = [1] + filters\\n        # NOTE: never ever add layers into python's list...\\n        self.convs = nn.ModuleList()\\n        self.fc = nn.ModuleList()\\n        self.activation = activation\\n\\n        # define convolutions\\n        for i, num_filters in enumerate(filters[1:]):\\n            conv = nn.Conv2d(in_channels=filters[i], out_channels=num_filters,\\n                             kernel_size=kernel, padding='same')\\n\\n            self.convs.append(conv)\\n\\n        self.max_pool = nn.MaxPool2d(2, 2)\\n\\n    def forward(self, x):\\n        for i, layer in enumerate(self.convs):\\n            x = self.activation(layer(x))\\n\\n            if i % 4 == 1:\\n                # downsample by 2 on 2nd conv layer\\n                x = self.max_pool(x)\\n        return F.sigmoid(x)\\n\\nnetG= Discriminator(filters=[4, 4, 8, 8], kernel=3).to(device)\\n\\nsummary(netG, (1,28,28), device ='cuda')\\n\""
            ],
            "application/vnd.google.colaboratory.intrinsic+json": {
              "type": "string"
            }
          },
          "metadata": {},
          "execution_count": 6
        }
      ]
    },
    {
      "cell_type": "code",
      "source": [
        "from torch.nn.modules.activation import LeakyReLU\n",
        "nz = 256 #arbitrary size of the latent vector,\n",
        "\n",
        "######!!!!!!!!!!!ATTENTION TO NOIZ!!!!!!!!!!!!!!!!############\n",
        "#It was a really dumb way to name something, everything should work, but in case of error look here first!!!!!!!!!!\n",
        "#################!!!!!!!!!!!!!!!!!!!!!!!!!###############\n",
        "\n",
        "class Generator(nn.Module):\n",
        "  def __init__(self, noise):\n",
        "    super(Generator, self).__init__()\n",
        "    self.noise = nz\n",
        "\n",
        "    #usually I despise this way of working, but for such an easy case I can make an exeption\n",
        "    self.main = nn.Sequential(\n",
        "        nn.Linear(self.noise, 256),\n",
        "        nn.LeakyReLU(0.2),\n",
        "\n",
        "        nn.Linear(256, 512),\n",
        "        nn.LeakyReLU(0.2),\n",
        "\n",
        "        nn.Linear(512, 1024),\n",
        "        nn.LeakyReLU(0.2),\n",
        "\n",
        "        nn.Linear(1024, 784),\n",
        "        nn.Tanh(),\n",
        "        )\n",
        "  def forward(self, x):\n",
        "    return self.main(x).view(-1, 1, 28, 28)\n",
        "\n",
        "netG = Generator(nz).to(device)\n",
        "summary(netG, (1, nz), device = 'cuda')"
      ],
      "metadata": {
        "id": "SAB47BplGqxp",
        "outputId": "21970590-a9c6-4737-ad30-51485fea6a5f",
        "colab": {
          "base_uri": "https://localhost:8080/"
        }
      },
      "execution_count": 7,
      "outputs": [
        {
          "output_type": "stream",
          "name": "stdout",
          "text": [
            "----------------------------------------------------------------\n",
            "        Layer (type)               Output Shape         Param #\n",
            "================================================================\n",
            "            Linear-1               [-1, 1, 256]          65,792\n",
            "         LeakyReLU-2               [-1, 1, 256]               0\n",
            "            Linear-3               [-1, 1, 512]         131,584\n",
            "         LeakyReLU-4               [-1, 1, 512]               0\n",
            "            Linear-5              [-1, 1, 1024]         525,312\n",
            "         LeakyReLU-6              [-1, 1, 1024]               0\n",
            "            Linear-7               [-1, 1, 784]         803,600\n",
            "              Tanh-8               [-1, 1, 784]               0\n",
            "================================================================\n",
            "Total params: 1,526,288\n",
            "Trainable params: 1,526,288\n",
            "Non-trainable params: 0\n",
            "----------------------------------------------------------------\n",
            "Input size (MB): 0.00\n",
            "Forward/backward pass size (MB): 0.04\n",
            "Params size (MB): 5.82\n",
            "Estimated Total Size (MB): 5.86\n",
            "----------------------------------------------------------------\n"
          ]
        }
      ]
    },
    {
      "cell_type": "code",
      "source": [
        "class Discriminator(nn.Module):\n",
        "    def __init__(self):\n",
        "        super(Discriminator, self).__init__()\n",
        "        self.n_input = 784\n",
        "        self.main = nn.Sequential(\n",
        "            nn.Linear(self.n_input, 1024),\n",
        "            nn.LeakyReLU(0.2),\n",
        "            nn.Dropout(0.3),\n",
        "            nn.Linear(1024, 512),\n",
        "            nn.LeakyReLU(0.2),\n",
        "            nn.Dropout(0.3),\n",
        "            nn.Linear(512, 256),\n",
        "            nn.LeakyReLU(0.2),\n",
        "            nn.Dropout(0.3),\n",
        "            nn.Linear(256, 1),\n",
        "            nn.Sigmoid(),\n",
        "        )\n",
        "    def forward(self, x):\n",
        "        x = x.view(-1, 784)\n",
        "        return self.main(x)\n",
        "\n",
        "netD = Discriminator().to(device)\n",
        "summary(netD, (1,28,28), device = 'cuda')"
      ],
      "metadata": {
        "id": "IcOM3p6_kr3I",
        "outputId": "097ffa5f-a51e-48b9-993d-57fc7f05f177",
        "colab": {
          "base_uri": "https://localhost:8080/"
        }
      },
      "execution_count": 8,
      "outputs": [
        {
          "output_type": "stream",
          "name": "stdout",
          "text": [
            "----------------------------------------------------------------\n",
            "        Layer (type)               Output Shape         Param #\n",
            "================================================================\n",
            "            Linear-1                 [-1, 1024]         803,840\n",
            "         LeakyReLU-2                 [-1, 1024]               0\n",
            "           Dropout-3                 [-1, 1024]               0\n",
            "            Linear-4                  [-1, 512]         524,800\n",
            "         LeakyReLU-5                  [-1, 512]               0\n",
            "           Dropout-6                  [-1, 512]               0\n",
            "            Linear-7                  [-1, 256]         131,328\n",
            "         LeakyReLU-8                  [-1, 256]               0\n",
            "           Dropout-9                  [-1, 256]               0\n",
            "           Linear-10                    [-1, 1]             257\n",
            "          Sigmoid-11                    [-1, 1]               0\n",
            "================================================================\n",
            "Total params: 1,460,225\n",
            "Trainable params: 1,460,225\n",
            "Non-trainable params: 0\n",
            "----------------------------------------------------------------\n",
            "Input size (MB): 0.00\n",
            "Forward/backward pass size (MB): 0.04\n",
            "Params size (MB): 5.57\n",
            "Estimated Total Size (MB): 5.61\n",
            "----------------------------------------------------------------\n"
          ]
        }
      ]
    },
    {
      "cell_type": "code",
      "source": [
        "import torch.optim as optim\n",
        "optim_g = optim.Adam(netG.parameters(), lr=0.0002)\n",
        "optim_d = optim.Adam(netD.parameters(), lr=0.0002)"
      ],
      "metadata": {
        "id": "7pc7GnIpKVnk"
      },
      "execution_count": 9,
      "outputs": []
    },
    {
      "cell_type": "code",
      "source": [
        "# loss function\n",
        "criterion = nn.BCELoss()\n",
        "\n",
        "losses_g = [] # to store generator loss after each epoch\n",
        "losses_d = [] # to store discriminator loss after each epoch\n",
        "images = [] # to store images generatd by the generator"
      ],
      "metadata": {
        "id": "EB4ngWTbKhX1"
      },
      "execution_count": 10,
      "outputs": []
    },
    {
      "cell_type": "markdown",
      "source": [
        "# Functions\n",
        "\n",
        "These functions will come in handy during the training and visualization"
      ],
      "metadata": {
        "id": "beF1LMCRpa2S"
      }
    },
    {
      "cell_type": "code",
      "source": [
        "# to create real labels (1s), basically real data\n",
        "def label_real(size):\n",
        "    \"\"\"to create real labels (1s), basically real data\"\"\"\n",
        "    data = torch.ones(size, 1)\n",
        "    return data.to(device)\n",
        "def label_fake(size):\n",
        "    \"\"\"to create fake labels (0s), basically fake data\"\"\"\n",
        "    data = torch.zeros(size, 1)\n",
        "    return data.to(device)"
      ],
      "metadata": {
        "id": "cI0GMYmaK1t2"
      },
      "execution_count": 11,
      "outputs": []
    },
    {
      "cell_type": "code",
      "source": [
        "def create_noise(sample_size, noiz):\n",
        "  \"\"\"creates the noise vector\"\"\"\n",
        "  return torch.randn(sample_size, nz).to(device) #random noise from a N(0,1), with size sample_size x noise\n",
        "\n",
        "print(create_noise(200, 128))"
      ],
      "metadata": {
        "id": "Wq38blaapomn",
        "outputId": "90d1ab6b-3103-4445-f6e7-d7b0f7deab5c",
        "colab": {
          "base_uri": "https://localhost:8080/"
        }
      },
      "execution_count": 12,
      "outputs": [
        {
          "output_type": "stream",
          "name": "stdout",
          "text": [
            "tensor([[-0.3747, -0.9562, -1.3313,  ...,  0.9619, -0.4373,  1.0453],\n",
            "        [ 0.2271,  0.8931, -1.4009,  ..., -1.9305, -1.0430,  0.1906],\n",
            "        [-1.1576, -1.1254,  0.5095,  ...,  0.8117,  0.5200,  0.5507],\n",
            "        ...,\n",
            "        [ 0.6422, -0.9882,  2.0710,  ...,  0.2371,  0.0649,  1.2766],\n",
            "        [-0.9815, -1.3321,  1.3702,  ...,  0.2150, -1.0882, -0.6285],\n",
            "        [-0.7148,  2.1912, -0.6717,  ..., -0.0133, -0.6315,  0.2218]])\n"
          ]
        }
      ]
    },
    {
      "cell_type": "code",
      "source": [
        "from torchvision.utils import save_image, make_grid\n",
        "\n",
        "def save_gen_img(img, path):\n",
        "  save_image(img, path)"
      ],
      "metadata": {
        "id": "L88dvhKdqI1H"
      },
      "execution_count": 13,
      "outputs": []
    },
    {
      "cell_type": "markdown",
      "source": [
        "#TRAINING\n",
        "\n",
        "First we define the train functions for discriminator and generator"
      ],
      "metadata": {
        "id": "g07kFu5OradX"
      }
    },
    {
      "cell_type": "code",
      "source": [
        "#we need to train him in order to distinguish fake images from real ones\n",
        "\n",
        "def train_discriminator(optimizer, real_data, fake_data):\n",
        "  batch_size = real_data.size(0)\n",
        "  real_label = label_real(b_size)\n",
        "  fake_label = label_fake(b_size)\n",
        "\n",
        "  optimizer.zero_grad()\n",
        "  output_real = netD(real_data)\n",
        "  loss_real = criterion(output_real, real_label)\n",
        "\n",
        "  output_fake = netD(fake_data)\n",
        "  loss_fake = criterion(output_fake, fake_label)\n",
        "\n",
        "  loss_real.backward()\n",
        "  loss_fake.backward()\n",
        "  optimizer.step()\n",
        "\n",
        "  return loss_real + loss_fake #total loss is what intrests us the most\n",
        "\n"
      ],
      "metadata": {
        "id": "f5DU5Pv-rbcq"
      },
      "execution_count": 14,
      "outputs": []
    },
    {
      "cell_type": "code",
      "source": [
        "#now we need to train the gen in order to be able to fool the discriminator\n",
        "\n",
        "def train_generator(optimizer, fake_data): #I only pass him fake data since it's the one it's producing\n",
        "  batch_size = real_data.size(0)\n",
        "  real_label = label_real(batch_size)\n",
        "\n",
        "  optimizer.zero_grad()\n",
        "\n",
        "  output = netD(data_fake) #STILL THE DISCRIMINATOR!!!!\n",
        "\n",
        "  loss = criterion(output, real_label)\n",
        "\n",
        "  loss.backward()\n",
        "  optimizer.step()\n",
        "\n",
        "  return loss"
      ],
      "metadata": {
        "id": "GCnN8qH5sYtO"
      },
      "execution_count": 15,
      "outputs": []
    },
    {
      "cell_type": "code",
      "source": [
        "#not a great fan of tqdm, but it indeed is a great tool for data visualization\n",
        "from tqdm import tqdm #progress bars\n"
      ],
      "metadata": {
        "id": "Hy9Hx3Nvt-7f"
      },
      "execution_count": 16,
      "outputs": []
    },
    {
      "cell_type": "markdown",
      "source": [
        "## TRAINING LOOP"
      ],
      "metadata": {
        "id": "WwGt1ieuvGbl"
      }
    },
    {
      "cell_type": "code",
      "source": [
        "sepochs = 100 #num_iterations for training\n",
        "k = 3 #iter to run the discriminator\n",
        "\n",
        "for epoch in range(epochs):\n",
        "  loss_g = 0.0\n",
        "  loss_d = 0.0\n",
        "  for batch_index, data in tqdm(enumerate(train_loader), total=int(len(training_data)/train_loader.batch_size)):\n",
        "\n",
        "    image, _ = data\n",
        "    image = image.to(device)\n",
        "    b_size = len(image)\n",
        "\n",
        "    for step in range(k):\n",
        "      fake_data = netG(create_noise(b_size, nz)).detach() #img only\n",
        "      real_data = image\n",
        "\n",
        "      loss_d += train_discriminator(optim_d, real_data, fake_data)\n",
        "\n",
        "    #here I start training the gen\n",
        "    data_fake = netG(create_noise(b_size, nz))\n",
        "    # train the generator network\n",
        "    loss_g += train_generator(optim_g, data_fake)\n",
        "\n",
        "    # create the final fake image for the epoch\n",
        "    generated_img = netG(create_noise(b_size, nz)).cpu().detach()\n",
        "    # make the images as grid\n",
        "    generated_img = make_grid(generated_img)\n",
        "    # save the generated torch tensor models to disk\n",
        "    save_gen_img(generated_img, f\"../content/outputs/gen_img{epoch}.png\")\n",
        "    images.append(generated_img)\n",
        "    epoch_loss_g = loss_g / batch_index # total generator loss for the epoch\n",
        "    epoch_loss_d = loss_d / batch_index # total discriminator loss for the epoch\n",
        "    losses_g.append(epoch_loss_g)\n",
        "    losses_d.append(epoch_loss_d)\n",
        "\n",
        "    if batch_index % 100== 0:\n",
        "      print(f\"Epoch {epoch} of {epochs}\")\n",
        "      print(f\"Generator loss: {epoch_loss_g:.8f}, Discriminator loss: {epoch_loss_d:.8f}\")\n",
        "\n",
        "\n",
        "\n",
        "\n"
      ],
      "metadata": {
        "id": "VjmAMP1Iu7dc",
        "outputId": "25887660-72e0-4db8-f50c-a5ec4ba9a0e6",
        "colab": {
          "base_uri": "https://localhost:8080/"
        }
      },
      "execution_count": null,
      "outputs": [
        {
          "output_type": "stream",
          "name": "stderr",
          "text": [
            "  0%|          | 2/937 [00:00<04:29,  3.47it/s]"
          ]
        },
        {
          "output_type": "stream",
          "name": "stdout",
          "text": [
            "Epoch 0 of 100\n",
            "Generator loss: inf, Discriminator loss: inf\n"
          ]
        },
        {
          "output_type": "stream",
          "name": "stderr",
          "text": [
            " 11%|█         | 102/937 [00:20<02:34,  5.40it/s]"
          ]
        },
        {
          "output_type": "stream",
          "name": "stdout",
          "text": [
            "Epoch 0 of 100\n",
            "Generator loss: 7.17934895, Discriminator loss: 1.32727921\n"
          ]
        },
        {
          "output_type": "stream",
          "name": "stderr",
          "text": [
            " 21%|██▏       | 201/937 [00:42<02:35,  4.73it/s]"
          ]
        },
        {
          "output_type": "stream",
          "name": "stdout",
          "text": [
            "Epoch 0 of 100\n",
            "Generator loss: 8.67541695, Discriminator loss: 1.07600844\n"
          ]
        },
        {
          "output_type": "stream",
          "name": "stderr",
          "text": [
            " 32%|███▏      | 301/937 [01:05<02:28,  4.27it/s]"
          ]
        },
        {
          "output_type": "stream",
          "name": "stdout",
          "text": [
            "Epoch 0 of 100\n",
            "Generator loss: 8.55546856, Discriminator loss: 0.81954610\n"
          ]
        },
        {
          "output_type": "stream",
          "name": "stderr",
          "text": [
            " 43%|████▎     | 401/937 [01:27<01:51,  4.80it/s]"
          ]
        },
        {
          "output_type": "stream",
          "name": "stdout",
          "text": [
            "Epoch 0 of 100\n",
            "Generator loss: 8.44421482, Discriminator loss: 0.63462031\n"
          ]
        },
        {
          "output_type": "stream",
          "name": "stderr",
          "text": [
            " 53%|█████▎    | 501/937 [01:51<01:33,  4.65it/s]"
          ]
        },
        {
          "output_type": "stream",
          "name": "stdout",
          "text": [
            "Epoch 0 of 100\n",
            "Generator loss: 8.95795918, Discriminator loss: 0.53971624\n"
          ]
        },
        {
          "output_type": "stream",
          "name": "stderr",
          "text": [
            " 64%|██████▍   | 601/937 [02:15<01:12,  4.61it/s]"
          ]
        },
        {
          "output_type": "stream",
          "name": "stdout",
          "text": [
            "Epoch 0 of 100\n",
            "Generator loss: 9.13795662, Discriminator loss: 0.46845028\n"
          ]
        },
        {
          "output_type": "stream",
          "name": "stderr",
          "text": [
            " 75%|███████▍  | 701/937 [02:38<00:51,  4.59it/s]"
          ]
        },
        {
          "output_type": "stream",
          "name": "stdout",
          "text": [
            "Epoch 0 of 100\n",
            "Generator loss: 9.47108269, Discriminator loss: 0.42220759\n"
          ]
        },
        {
          "output_type": "stream",
          "name": "stderr",
          "text": [
            " 85%|████████▌ | 801/937 [03:01<00:37,  3.64it/s]"
          ]
        },
        {
          "output_type": "stream",
          "name": "stdout",
          "text": [
            "Epoch 0 of 100\n",
            "Generator loss: 9.84215164, Discriminator loss: 0.38569015\n"
          ]
        },
        {
          "output_type": "stream",
          "name": "stderr",
          "text": [
            " 96%|█████████▋| 902/937 [03:23<00:06,  5.23it/s]"
          ]
        },
        {
          "output_type": "stream",
          "name": "stdout",
          "text": [
            "Epoch 0 of 100\n",
            "Generator loss: 9.94303799, Discriminator loss: 0.35787281\n"
          ]
        },
        {
          "output_type": "stream",
          "name": "stderr",
          "text": [
            "938it [03:31,  4.44it/s]\n",
            "  0%|          | 1/937 [00:00<02:52,  5.43it/s]"
          ]
        },
        {
          "output_type": "stream",
          "name": "stdout",
          "text": [
            "Epoch 1 of 100\n",
            "Generator loss: inf, Discriminator loss: inf\n"
          ]
        },
        {
          "output_type": "stream",
          "name": "stderr",
          "text": [
            " 11%|█         | 101/937 [00:20<03:36,  3.86it/s]"
          ]
        },
        {
          "output_type": "stream",
          "name": "stdout",
          "text": [
            "Epoch 1 of 100\n",
            "Generator loss: 8.92376328, Discriminator loss: 0.06433178\n"
          ]
        },
        {
          "output_type": "stream",
          "name": "stderr",
          "text": [
            " 22%|██▏       | 202/937 [00:40<02:17,  5.35it/s]"
          ]
        },
        {
          "output_type": "stream",
          "name": "stdout",
          "text": [
            "Epoch 1 of 100\n",
            "Generator loss: 9.59998417, Discriminator loss: 0.09600510\n"
          ]
        },
        {
          "output_type": "stream",
          "name": "stderr",
          "text": [
            " 32%|███▏      | 302/937 [01:01<02:12,  4.79it/s]"
          ]
        },
        {
          "output_type": "stream",
          "name": "stdout",
          "text": [
            "Epoch 1 of 100\n",
            "Generator loss: 9.92203712, Discriminator loss: 0.08984212\n"
          ]
        },
        {
          "output_type": "stream",
          "name": "stderr",
          "text": [
            " 43%|████▎     | 401/937 [01:23<01:55,  4.62it/s]"
          ]
        },
        {
          "output_type": "stream",
          "name": "stdout",
          "text": [
            "Epoch 1 of 100\n",
            "Generator loss: 10.00036812, Discriminator loss: 0.09890924\n"
          ]
        },
        {
          "output_type": "stream",
          "name": "stderr",
          "text": [
            " 54%|█████▎    | 502/937 [01:44<01:25,  5.08it/s]"
          ]
        },
        {
          "output_type": "stream",
          "name": "stdout",
          "text": [
            "Epoch 1 of 100\n",
            "Generator loss: 10.40177631, Discriminator loss: 0.11588585\n"
          ]
        },
        {
          "output_type": "stream",
          "name": "stderr",
          "text": [
            " 64%|██████▍   | 601/937 [02:07<01:12,  4.62it/s]"
          ]
        },
        {
          "output_type": "stream",
          "name": "stdout",
          "text": [
            "Epoch 1 of 100\n",
            "Generator loss: 10.34306240, Discriminator loss: 0.11347345\n"
          ]
        },
        {
          "output_type": "stream",
          "name": "stderr",
          "text": [
            " 75%|███████▍  | 701/937 [02:28<00:46,  5.05it/s]"
          ]
        },
        {
          "output_type": "stream",
          "name": "stdout",
          "text": [
            "Epoch 1 of 100\n",
            "Generator loss: 10.58244991, Discriminator loss: 0.11690632\n"
          ]
        },
        {
          "output_type": "stream",
          "name": "stderr",
          "text": [
            " 85%|████████▌ | 801/937 [02:49<00:28,  4.72it/s]"
          ]
        },
        {
          "output_type": "stream",
          "name": "stdout",
          "text": [
            "Epoch 1 of 100\n",
            "Generator loss: 10.62432003, Discriminator loss: 0.11495616\n"
          ]
        },
        {
          "output_type": "stream",
          "name": "stderr",
          "text": [
            " 96%|█████████▌| 901/937 [03:13<00:07,  4.70it/s]"
          ]
        },
        {
          "output_type": "stream",
          "name": "stdout",
          "text": [
            "Epoch 1 of 100\n",
            "Generator loss: 10.89364243, Discriminator loss: 0.11898630\n"
          ]
        },
        {
          "output_type": "stream",
          "name": "stderr",
          "text": [
            "938it [03:20,  4.67it/s]\n",
            "  0%|          | 1/937 [00:00<03:14,  4.82it/s]"
          ]
        },
        {
          "output_type": "stream",
          "name": "stdout",
          "text": [
            "Epoch 2 of 100\n",
            "Generator loss: inf, Discriminator loss: inf\n"
          ]
        },
        {
          "output_type": "stream",
          "name": "stderr",
          "text": [
            "  8%|▊         | 76/937 [11:14<3:11:06, 13.32s/it]"
          ]
        }
      ]
    },
    {
      "cell_type": "code",
      "source": [],
      "metadata": {
        "id": "DHVSrndUDkj1"
      },
      "execution_count": null,
      "outputs": []
    }
  ]
}